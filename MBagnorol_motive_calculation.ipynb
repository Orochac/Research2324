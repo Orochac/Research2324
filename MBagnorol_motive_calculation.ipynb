{
 "cells": [
  {
   "cell_type": "markdown",
   "id": "31994d9e-b9c9-46ca-a80a-d22da997fab9",
   "metadata": {},
   "source": [
    "d = Degree\n",
    "r = Rank\n",
    "n = Dimension\n",
    "k = Subspace dimension\n",
    "s = k-r\n",
    "$$\\delta\\text{ = degree of the morphism}$$ \n"
   ]
  },
  {
   "cell_type": "code",
   "execution_count": 20,
   "id": "1926424f-9afd-48a2-b855-66dfb621a6b4",
   "metadata": {},
   "outputs": [],
   "source": [
    "def multiply_motives(motive1, motive2):\n",
    "    len1 = len(motive1)\n",
    "    len2 = len(motive2)\n",
    "    total_len = len1+len2-1\n",
    "    result = [0]*total_len\n",
    "    while len(motive1)<total_len:\n",
    "        motive1.append(0)\n",
    "    while len(motive2)<total_len:\n",
    "        motive2.append(0)\n",
    "    for i in range(len1):\n",
    "        for j in range(len2):\n",
    "            result[i+j] +=  motive1[i]*motive2[j]\n",
    "    return result\n",
    "\n",
    "def add_motives(motive1, motive2):\n",
    "    total_len = max(len(motive1), len(motive2))\n",
    "    while len(motive1)<total_len:\n",
    "        motive1.append(0)\n",
    "    while len(motive2)<total_len:\n",
    "        motive2.append(0)\n",
    "    result = [0]*total_len\n",
    "    for i in range(total_len):\n",
    "        result[i] += motive1[i]+motive2[i]\n",
    "    return result"
   ]
  },
  {
   "cell_type": "markdown",
   "id": "c392a862-ef88-4e06-83fa-d5666d171ca9",
   "metadata": {},
   "source": [
    "The folowing function bia_bir_decomp(r,k,delta) calcuates $$[\\bar{Q_\\delta}]$$"
   ]
  },
  {
   "cell_type": "code",
   "execution_count": 23,
   "id": "9f3e718f-dfb6-4fa7-883e-3733d028c7b1",
   "metadata": {},
   "outputs": [],
   "source": [
    "import numpy as np\n",
    "import itertools\n",
    "def bia_bir_decomp(r,k,delta):\n",
    "    s = k-r\n",
    "    return [prop_4_point_15(r,s,delta,i) for i in range(k*delta+r*(k-r)+1)]\n",
    "    \n",
    "def computation1(a,b,c,s):\n",
    "    total = 0\n",
    "    i = 0\n",
    "    while i<s:\n",
    "        total += a[i]+c[i]*(1-b[i]+b[i+1])\n",
    "        i+=1\n",
    "    return total\n",
    "\n",
    "# in order to calculate the number of sequences that satisfy \n",
    "# the equation of proposition 4.15 we enumerate all possible\n",
    "# weakly sequences through a bijection to combinations.\n",
    "# this however is exponential in its execution.\n",
    "def prop_4_point_15(r,s,delta, i):\n",
    "    total = 0\n",
    "    for steps in itertools.combinations(range(r+s),r):\n",
    "        c = []\n",
    "        level = 0\n",
    "        path_j = 0\n",
    "        while path_j < r+s:\n",
    "            if level<r and steps[level]==path_j:\n",
    "                level += 1\n",
    "                path_j+=1\n",
    "            else:\n",
    "                c.append(level)\n",
    "                path_j+=1\n",
    "        for steps_b in itertools.combinations(range(2*s-1+delta),delta):\n",
    "            ab = []\n",
    "            level_b = 0\n",
    "            path_b_j = 0\n",
    "            while path_b_j < delta+2*s-1:\n",
    "                if level_b<delta and steps_b[level_b]==path_b_j:\n",
    "                    level_b += 1\n",
    "                    path_b_j+=1\n",
    "                else:\n",
    "                    ab.append(level_b)\n",
    "                    path_b_j+=1\n",
    "            a = ab[::2]\n",
    "            b = [0]+ab[1::2]+[delta]\n",
    "            if computation1(a,b,c,s)==i:\n",
    "                total+=1\n",
    "    return total\n"
   ]
  },
  {
   "cell_type": "markdown",
   "id": "becc974d-5a41-48e6-835e-af7a1231defd",
   "metadata": {},
   "source": [
    "The folowing calculates\n",
    "$$\\Omega_{d-\\delta}=\\Sigma_{m\\in Z^s, |m|=d-\\delta}\\frac{(1-L^{m_1+1})..(1-L^{m_s+1})}{(1-L)^s}L^{d_m}$$\n",
    "$$d_m=\\Sigma^s_i=0(i-1)m_i$$"
   ]
  },
  {
   "cell_type": "code",
   "execution_count": 24,
   "id": "0a564a0e-88c0-4d6d-9291-354ca07cc462",
   "metadata": {},
   "outputs": [],
   "source": [
    "def prop_4_point_13(r, k, w):\n",
    "    s = k-r\n",
    "    result = [0]\n",
    "    for combination in itertools.product(range(w+1),repeat = s): \n",
    "        total = sum(combination)\n",
    "        motive = [1]\n",
    "        if total == w:\n",
    "            for m_i in combination:\n",
    "                motive_mult = [1]*(m_i+1)\n",
    "                motive = multiply_motives(motive_mult, motive)\n",
    "            d_m = computation_2(combination)+1\n",
    "            other_motive = [0]*d_m\n",
    "            other_motive[d_m-1] = 1\n",
    "            motive = multiply_motives(motive, other_motive)\n",
    "            result =add_motives(result, motive)\n",
    "    return result\n",
    "\n",
    "def computation_2(combination):\n",
    "    total = 0\n",
    "    i = 1\n",
    "    for m in combination:\n",
    "        total += (i-1)*m\n",
    "        i+=1\n",
    "    return total\n",
    "        \n"
   ]
  },
  {
   "cell_type": "code",
   "execution_count": null,
   "id": "c7d58cd3-35b8-461b-beea-bdf35295e454",
   "metadata": {},
   "outputs": [],
   "source": []
  },
  {
   "cell_type": "markdown",
   "id": "04754abb-70d7-4291-856f-04778fa9ccd1",
   "metadata": {},
   "source": [
    "The following calculates upside down Omega and finaly the motive of the space"
   ]
  },
  {
   "cell_type": "code",
   "execution_count": 27,
   "id": "a9345424-9ac4-46a6-bcc3-2e0c46afcb7b",
   "metadata": {},
   "outputs": [],
   "source": [
    "def theorem_4_point_14(r, k,d):\n",
    "    s = k-r\n",
    "    result = [0]\n",
    "    for j in range(d+1):\n",
    "        motive = bia_bir_decomp(r,k,d-j)\n",
    "        omega = recursion_16(r,k,j)\n",
    "        result = add_motives(result,multiply_motives(motive,omega))\n",
    "    return result\n",
    "    \n",
    "def recursion_16(r,k,j):\n",
    "    i = 0\n",
    "    if j == 0:\n",
    "        return [1]\n",
    "    motive = [0]\n",
    "    while i<=j-1:\n",
    "        motive_mult = multiply_motives(recursion_16(r,k,i),prop_4_point_13(r, k,j-i))\n",
    "        motive = add_motives(motive, motive_mult)\n",
    "        i+=1\n",
    "    return multiply_motives(motive, [-1])\n"
   ]
  },
  {
   "cell_type": "markdown",
   "id": "33afdec3-bbbe-422b-bcdd-b5109f2dcf86",
   "metadata": {},
   "source": [
    "The 5 motives of the spaces $$[Rat_d(\\mathbb{P}^1,\\mathbb{G}(2,5))], d\\in\\{0,..,4\\}$$"
   ]
  },
  {
   "cell_type": "code",
   "execution_count": 28,
   "id": "7550b020-13cf-4674-b61d-8fde6eef2560",
   "metadata": {},
   "outputs": [
    {
     "name": "stdout",
     "output_type": "stream",
     "text": [
      "[1, 1, 2, 2, 2, 1, 1]\n",
      "[0, -1, -2, -3, -3, -2, 0, 2, 3, 3, 2, 1]\n",
      "[0, 0, 0, 1, 1, 1, -1, -3, -5, -5, -3, 0, 3, 4, 4, 2, 1]\n",
      "[0, 0, 0, 0, 0, 0, 0, 1, 2, 2, 1, -2, -5, -7, -6, -3, 1, 4, 5, 4, 2, 1]\n",
      "[0, 0, 0, 0, 0, 0, 0, 0, 0, 0, 0, 1, 2, 3, 2, 0, -4, -7, -8, -6, -2, 2, 5, 5, 4, 2, 1]\n"
     ]
    }
   ],
   "source": [
    "for i in range(5):\n",
    "    print(theorem_4_point_14(2, 5,i))"
   ]
  },
  {
   "cell_type": "code",
   "execution_count": null,
   "id": "670e0b1f-61ea-4eeb-9e9e-78caeeba19f9",
   "metadata": {},
   "outputs": [],
   "source": []
  },
  {
   "cell_type": "code",
   "execution_count": null,
   "id": "b62c39be-f253-4620-a9d3-5f82665a57f9",
   "metadata": {},
   "outputs": [],
   "source": [
    "\n"
   ]
  },
  {
   "cell_type": "code",
   "execution_count": null,
   "id": "3b6f131c-9570-474c-9bcc-f033c42f2d4a",
   "metadata": {},
   "outputs": [],
   "source": []
  }
 ],
 "metadata": {
  "kernelspec": {
   "display_name": "Python 3 (ipykernel)",
   "language": "python",
   "name": "python3"
  },
  "language_info": {
   "codemirror_mode": {
    "name": "ipython",
    "version": 3
   },
   "file_extension": ".py",
   "mimetype": "text/x-python",
   "name": "python",
   "nbconvert_exporter": "python",
   "pygments_lexer": "ipython3",
   "version": "3.9.7"
  }
 },
 "nbformat": 4,
 "nbformat_minor": 5
}
